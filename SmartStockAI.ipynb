{
 "cells": [
  {
   "cell_type": "markdown",
   "id": "dbaeb56c",
   "metadata": {},
   "source": [
    "# Load Datasets"
   ]
  },
  {
   "cell_type": "code",
   "execution_count": 2,
   "id": "e5993965",
   "metadata": {},
   "outputs": [],
   "source": [
    "import pandas as pd"
   ]
  },
  {
   "cell_type": "code",
   "execution_count": 3,
   "id": "2be77927",
   "metadata": {},
   "outputs": [
    {
     "name": "stdout",
     "output_type": "stream",
     "text": [
      "H:\\PROJECTS\\AIML PROJECTS\\SmartStockAI\n"
     ]
    }
   ],
   "source": [
    "import os\n",
    "# Change working directory to your project folder\n",
    "os.chdir(r\"H:\\PROJECTS\\AIML PROJECTS\\SmartStockAI\")\n",
    "print(os.getcwd())\n"
   ]
  },
  {
   "cell_type": "code",
   "execution_count": 4,
   "id": "76b79bbe",
   "metadata": {},
   "outputs": [
    {
     "name": "stdout",
     "output_type": "stream",
     "text": [
      "--------------------------------------------------------------------------------\n",
      "  Product_ID              Product_Name       Category               Brand  \\\n",
      "0       P001             Tata Salt 1kg        Grocery                Tata   \n",
      "1       P002   Colgate Toothpaste 100g  Personal Care             Colgate   \n",
      "2       P003  Fortune Sunflower Oil 1L        Grocery        Adani Wilmar   \n",
      "3       P004              Lux Soap Bar  Personal Care  Hindustan Unilever   \n",
      "4       P005  Britannia Marie Biscuits         Snacks           Britannia   \n",
      "\n",
      "   Cost_Price  Selling_Price  Reorder_Level  Shelf_Life_Days  \n",
      "0          20             25             30              730  \n",
      "1          40             60             25              720  \n",
      "2         120            150             40              365  \n",
      "3          25             40             20              730  \n",
      "4          15             25             30              180  \n",
      "--------------------------------------------------------------------------------\n",
      "         Date Warehouse_ID Product_ID              Product_Name  \\\n",
      "0  2025-01-01         W001       P001             Tata Salt 1kg   \n",
      "1  2025-01-01         W001       P002   Colgate Toothpaste 100g   \n",
      "2  2025-01-01         W001       P003  Fortune Sunflower Oil 1L   \n",
      "3  2025-01-01         W001       P004              Lux Soap Bar   \n",
      "4  2025-01-01         W001       P005  Britannia Marie Biscuits   \n",
      "\n",
      "        Category               Brand  Stock_Level  Sales  Reorder_Level  \n",
      "0        Grocery                Tata          222     21             30  \n",
      "1  Personal Care             Colgate          126     16             25  \n",
      "2        Grocery        Adani Wilmar          230     23             40  \n",
      "3  Personal Care  Hindustan Unilever          216     15             20  \n",
      "4         Snacks           Britannia          140     -1             30  \n",
      "--------------------------------------------------------------------------------\n",
      "         Date Warehouse_ID Product_ID               Product_Name  \\\n",
      "0  2025-01-02         W003       P003   Fortune Sunflower Oil 1L   \n",
      "1  2025-01-05         W001       P002    Colgate Toothpaste 100g   \n",
      "2  2025-01-09         W001       P007  Dabur Amla Hair Oil 200ml   \n",
      "3  2025-01-15         W002       P005   Britannia Marie Biscuits   \n",
      "4  2025-01-17         W002       P008    Maggi Noodles 2-min 70g   \n",
      "\n",
      "          Brand      Anomaly_Type  Stock_Level  Sales Severity Resolved  \n",
      "0  Adani Wilmar  High sales spike          137     59     High       No  \n",
      "1       Colgate  High sales spike           40     58     High       No  \n",
      "2         Dabur  High sales spike          145     55     High       No  \n",
      "3     Britannia  High sales spike           93     57     High       No  \n",
      "4  Nestle India  High sales spike          106     56     High       No  \n",
      "--------------------------------------------------------------------------------\n"
     ]
    }
   ],
   "source": [
    "# Load CSVs\n",
    "products = pd.read_csv(\"data/product_details.csv\")\n",
    "inventory = pd.read_csv(\"data/inventory_data.csv\")\n",
    "anomalies = pd.read_csv(\"data/anomalies.csv\")\n",
    "\n",
    "# Quick look at data\n",
    "print(\"-\"*80)\n",
    "print(products.head())\n",
    "print(\"-\"*80)\n",
    "print(inventory.head())\n",
    "print(\"-\"*80)\n",
    "print(anomalies.head())\n",
    "print(\"-\"*80)"
   ]
  }
 ],
 "metadata": {
  "kernelspec": {
   "display_name": "Python 3 (ipykernel)",
   "language": "python",
   "name": "python3"
  },
  "language_info": {
   "codemirror_mode": {
    "name": "ipython",
    "version": 3
   },
   "file_extension": ".py",
   "mimetype": "text/x-python",
   "name": "python",
   "nbconvert_exporter": "python",
   "pygments_lexer": "ipython3",
   "version": "3.11.9"
  }
 },
 "nbformat": 4,
 "nbformat_minor": 5
}
